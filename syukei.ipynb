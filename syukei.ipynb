{
 "cells": [
  {
   "cell_type": "code",
   "execution_count": 4,
   "id": "02ec70f9-8d7f-44d0-81ee-cb764093dff9",
   "metadata": {},
   "outputs": [],
   "source": [
    "import pandas as pd\n",
    "df_960daily = pd.read_csv(\"960daily_leaderboard_dates.csv\")\n",
    "df_960live = pd.read_csv(\"960live_leaderboard_dates.csv\")\n",
    "df_blitz = pd.read_csv(\"blitz_leaderboard_dates.csv\")\n",
    "df_bullet = pd.read_csv(\"bullet_leaderboard_dates.csv\")\n",
    "df_rapid = pd.read_csv(\"rapid_leaderboard_dates.csv\")\n",
    "df_daily = pd.read_csv(\"daily_leaderboard_dates.csv\")"
   ]
  },
  {
   "cell_type": "code",
   "execution_count": null,
   "id": "273ed1da-890c-471c-ad21-9bbb1032718f",
   "metadata": {},
   "outputs": [],
   "source": []
  }
 ],
 "metadata": {
  "kernelspec": {
   "display_name": "Python 3 (ipykernel)",
   "language": "python",
   "name": "python3"
  },
  "language_info": {
   "codemirror_mode": {
    "name": "ipython",
    "version": 3
   },
   "file_extension": ".py",
   "mimetype": "text/x-python",
   "name": "python",
   "nbconvert_exporter": "python",
   "pygments_lexer": "ipython3",
   "version": "3.10.9"
  }
 },
 "nbformat": 4,
 "nbformat_minor": 5
}
