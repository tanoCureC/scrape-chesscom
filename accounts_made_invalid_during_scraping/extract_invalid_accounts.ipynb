{
 "cells": [
  {
   "cell_type": "markdown",
   "id": "89096c98-5846-4f12-9bd1-ec968ebcf52a",
   "metadata": {},
   "source": [
    "dates情報を取得できなかったアカウント（リーダーボードではプレーヤー名を取得できたが、dates情報を取得するコードを実行するまでの間に消滅したアカウント）"
   ]
  },
  {
   "cell_type": "code",
   "execution_count": 1,
   "id": "4169f165-cc4a-4665-b28b-bbaefad0e59c",
   "metadata": {},
   "outputs": [],
   "source": [
    "import pandas as pd\n",
    "df4 = pd.read_csv(\"unique_player_dates-4.csv\")\n",
    "unique_player_names_df = pd.read_csv('unique_player_names.csv')\n"
   ]
  },
  {
   "cell_type": "code",
   "execution_count": 5,
   "id": "9892f484-cde7-4842-8e63-db87ad94d338",
   "metadata": {},
   "outputs": [
    {
     "name": "stdout",
     "output_type": "stream",
     "text": [
      "              Player name\n",
      "0              shigolance\n",
      "1            TheMoonGh0st\n",
      "3                 DWSFumi\n",
      "4                GMKobeni\n",
      "6            AizennSosuke\n",
      "7                 Raj221b\n",
      "8               high54low\n",
      "9                  zebhdz\n",
      "14               JIELUVSU\n",
      "15         VadimLepestkov\n",
      "16           ShockedPengu\n",
      "18               cZero_11\n",
      "22               dyaaleen\n",
      "23               tytyryan\n",
      "24               jeisiaha\n",
      "27                   ciqy\n",
      "28              Shirin2k5\n",
      "29        NevermoriusZero\n",
      "30             NAMMYBOI69\n",
      "31          expansiveness\n",
      "32     Tranthienphuoc1000\n",
      "33              Fludanshi\n",
      "35  Now_i_m_just_somebody\n",
      "36           MasbroHotaru\n",
      "37                  dipdo\n",
      "39              shussen21\n",
      "41        MikuHatsumexoxo\n",
      "42                Gatuchi\n"
     ]
    }
   ],
   "source": [
    "odd_man_out = unique_player_names_df[~unique_player_names_df['Player name'].isin(df4['Player name'])]\n",
    "print(odd_man_out)"
   ]
  }
 ],
 "metadata": {
  "kernelspec": {
   "display_name": "Python 3 (ipykernel)",
   "language": "python",
   "name": "python3"
  },
  "language_info": {
   "codemirror_mode": {
    "name": "ipython",
    "version": 3
   },
   "file_extension": ".py",
   "mimetype": "text/x-python",
   "name": "python",
   "nbconvert_exporter": "python",
   "pygments_lexer": "ipython3",
   "version": "3.10.9"
  }
 },
 "nbformat": 4,
 "nbformat_minor": 5
}
