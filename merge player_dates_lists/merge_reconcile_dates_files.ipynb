{
 "cells": [
  {
   "cell_type": "markdown",
   "id": "282bf565-fd35-4a34-b3e0-33d7f70766ae",
   "metadata": {},
   "source": [
    "エラーやサーバーメンテで中断したため、分割して取得したdates情報を連結"
   ]
  },
  {
   "cell_type": "code",
   "execution_count": 22,
   "id": "4169f165-cc4a-4665-b28b-bbaefad0e59c",
   "metadata": {},
   "outputs": [],
   "source": [
    "import pandas as pd\n",
    "df1 = pd.read_csv(\"unique_player_dates-1.csv\")\n",
    "df2 = pd.read_csv(\"unique_player_dates-2.csv\")\n",
    "df3 = pd.read_csv(\"unique_player_dates-3.csv\")\n",
    "unique_player_dates_df = pd.concat([df1, df2, df3], axis=0)"
   ]
  },
  {
   "cell_type": "markdown",
   "id": "cbce95c6-5373-413e-88e3-53854710ccad",
   "metadata": {},
   "source": [
    "連結後のunique_player_datesとunique_player_namesを比較し、dates情報をスクレイピングできなかったプレーヤー名を取得する"
   ]
  },
  {
   "cell_type": "code",
   "execution_count": 23,
   "id": "9892f484-cde7-4842-8e63-db87ad94d338",
   "metadata": {},
   "outputs": [
    {
     "name": "stdout",
     "output_type": "stream",
     "text": [
      "Odd man out: \n"
     ]
    }
   ],
   "source": [
    "unique_player_names_df = pd.read_csv('unique_player_names.csv')\n",
    "\n",
    "odd_man_out = unique_player_names_df[~unique_player_names_df['Player name'].isin(unique_player_dates_df['Player name'])]\n",
    "\n",
    "print(\"Odd man out: \")\n",
    "#print(odd_man_out)"
   ]
  },
  {
   "cell_type": "code",
   "execution_count": 24,
   "id": "27c42232-78ae-43df-9975-1a8221d3eeac",
   "metadata": {},
   "outputs": [],
   "source": [
    "odd_man_out.to_csv(\"odd_man_out.csv\", index=False)"
   ]
  },
  {
   "cell_type": "markdown",
   "id": "c1c15d7e-6445-439f-9c78-c1e1e519f4f4",
   "metadata": {},
   "source": [
    "unqiue_player_dates-4は上記で取得したスクレイピング漏れのプレーヤーに対して、再度3unique_player_dates.pyを走らせてdates情報を取得できたもの。unique_player_dates_dfとdf4を連結して、最終unique_player_datesを作成。"
   ]
  },
  {
   "cell_type": "code",
   "execution_count": 25,
   "id": "89e64bad-e474-4578-a735-05b8cf10f053",
   "metadata": {},
   "outputs": [],
   "source": [
    "df4 = pd.read_csv(\"unique_player_dates-4.csv\")"
   ]
  },
  {
   "cell_type": "code",
   "execution_count": 27,
   "id": "7d0a0ab1-da64-4449-875f-614b9deb3d52",
   "metadata": {},
   "outputs": [],
   "source": [
    "unique_player_dates_df2 = pd.concat([unique_player_dates_df, df4], axis=0)\n",
    "unique_player_dates_df2.to_csv(\"unique_player_dates.csv\", index=False)"
   ]
  }
 ],
 "metadata": {
  "kernelspec": {
   "display_name": "Python 3 (ipykernel)",
   "language": "python",
   "name": "python3"
  },
  "language_info": {
   "codemirror_mode": {
    "name": "ipython",
    "version": 3
   },
   "file_extension": ".py",
   "mimetype": "text/x-python",
   "name": "python",
   "nbconvert_exporter": "python",
   "pygments_lexer": "ipython3",
   "version": "3.10.9"
  }
 },
 "nbformat": 4,
 "nbformat_minor": 5
}
