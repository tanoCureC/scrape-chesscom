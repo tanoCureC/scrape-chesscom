{
 "cells": [
  {
   "cell_type": "markdown",
   "id": "282bf565-fd35-4a34-b3e0-33d7f70766ae",
   "metadata": {},
   "source": [
    "エラーやサーバーメンテで中断したため、分割して取得したdates情報を連結"
   ]
  },
  {
   "cell_type": "code",
   "execution_count": 2,
   "id": "4169f165-cc4a-4665-b28b-bbaefad0e59c",
   "metadata": {},
   "outputs": [],
   "source": [
    "import pandas as pd\n",
    "df1 = pd.read_csv(\"unique_player_dates-1.csv\")\n",
    "df2 = pd.read_csv(\"unique_player_dates-2.csv\")\n",
    "df3 = pd.read_csv(\"unique_player_dates-3.csv\")\n",
    "unique_player_dates_df = pd.concat([df1, df2, df3], axis=0)"
   ]
  },
  {
   "cell_type": "markdown",
   "id": "cbce95c6-5373-413e-88e3-53854710ccad",
   "metadata": {},
   "source": [
    "連結後のunique_player_datesとunique_player_namesを比較し、dates情報をスクレイピングできなかったプレーヤー名を取得する"
   ]
  },
  {
   "cell_type": "code",
   "execution_count": 3,
   "id": "9892f484-cde7-4842-8e63-db87ad94d338",
   "metadata": {},
   "outputs": [],
   "source": [
    "unique_player_names_df = pd.read_csv('unique_player_names.csv')\n",
    "\n",
    "odd_man_out = unique_player_names_df[~unique_player_names_df['Player name'].isin(unique_player_dates_df['Player name'])]\n",
    "\n",
    "#print(odd_man_out)"
   ]
  },
  {
   "cell_type": "code",
   "execution_count": 4,
   "id": "27c42232-78ae-43df-9975-1a8221d3eeac",
   "metadata": {},
   "outputs": [],
   "source": [
    "odd_man_out.to_csv(\"odd_man_out.csv\", index=False)"
   ]
  },
  {
   "cell_type": "markdown",
   "id": "c1c15d7e-6445-439f-9c78-c1e1e519f4f4",
   "metadata": {},
   "source": [
    "unqiue_player_dates-4は上記で取得したスクレイピング漏れのプレーヤーに対して、再度3unique_player_dates.pyを走らせてdates情報を取得できたもの。unique_player_dates_dfとdf4を連結して、unique_player_dates_df2を作成。"
   ]
  },
  {
   "cell_type": "code",
   "execution_count": 5,
   "id": "89e64bad-e474-4578-a735-05b8cf10f053",
   "metadata": {},
   "outputs": [],
   "source": [
    "df4 = pd.read_csv(\"unique_player_dates-4.csv\")"
   ]
  },
  {
   "cell_type": "code",
   "execution_count": 6,
   "id": "7d0a0ab1-da64-4449-875f-614b9deb3d52",
   "metadata": {},
   "outputs": [],
   "source": [
    "unique_player_dates_df2 = pd.concat([unique_player_dates_df, df4], axis=0)"
   ]
  },
  {
   "cell_type": "markdown",
   "id": "1a8bf820-6341-4ac2-9cbd-6adee1519b62",
   "metadata": {},
   "source": [
    "unique_player_dates_df2 に unique_player_dates_dailyを連結(df3)し、重複プレーヤーを削除、最終unique_player_dates_df4を作成し、unique_player_datesとしてcsvに書き出し"
   ]
  },
  {
   "cell_type": "code",
   "execution_count": 11,
   "id": "518c9979-aff5-42f6-a66e-074abdf682bf",
   "metadata": {},
   "outputs": [
    {
     "data": {
      "text/html": [
       "<div>\n",
       "<style scoped>\n",
       "    .dataframe tbody tr th:only-of-type {\n",
       "        vertical-align: middle;\n",
       "    }\n",
       "\n",
       "    .dataframe tbody tr th {\n",
       "        vertical-align: top;\n",
       "    }\n",
       "\n",
       "    .dataframe thead th {\n",
       "        text-align: right;\n",
       "    }\n",
       "</style>\n",
       "<table border=\"1\" class=\"dataframe\">\n",
       "  <thead>\n",
       "    <tr style=\"text-align: right;\">\n",
       "      <th></th>\n",
       "      <th>Player name</th>\n",
       "      <th>Joined</th>\n",
       "      <th>Last Online</th>\n",
       "      <th>Scraping time</th>\n",
       "      <th>Last Online chess.com server time</th>\n",
       "    </tr>\n",
       "  </thead>\n",
       "  <tbody>\n",
       "    <tr>\n",
       "      <th>0</th>\n",
       "      <td>Angry_Twin</td>\n",
       "      <td>Aug 4, 2012</td>\n",
       "      <td>1 day ago</td>\n",
       "      <td>2023-04-02 13:47:30</td>\n",
       "      <td>2023-03-31 18:47:30</td>\n",
       "    </tr>\n",
       "    <tr>\n",
       "      <th>1</th>\n",
       "      <td>Ryuzaki_Mochizuki</td>\n",
       "      <td>Oct 27, 2020</td>\n",
       "      <td>Jan 16, 2023</td>\n",
       "      <td>2023-04-02 13:47:36</td>\n",
       "      <td>2023-01-16 00:00:00</td>\n",
       "    </tr>\n",
       "    <tr>\n",
       "      <th>2</th>\n",
       "      <td>csgt_voz</td>\n",
       "      <td>Oct 26, 2022</td>\n",
       "      <td>9 days ago</td>\n",
       "      <td>2023-04-02 13:47:43</td>\n",
       "      <td>2023-03-23 18:47:43</td>\n",
       "    </tr>\n",
       "    <tr>\n",
       "      <th>3</th>\n",
       "      <td>Black-Flash</td>\n",
       "      <td>Jul 31, 2021</td>\n",
       "      <td>1 day ago</td>\n",
       "      <td>2023-04-02 13:47:50</td>\n",
       "      <td>2023-03-31 18:47:50</td>\n",
       "    </tr>\n",
       "    <tr>\n",
       "      <th>4</th>\n",
       "      <td>Gats1</td>\n",
       "      <td>Oct 12, 2020</td>\n",
       "      <td>4 days ago</td>\n",
       "      <td>2023-04-02 13:47:57</td>\n",
       "      <td>2023-03-28 18:47:57</td>\n",
       "    </tr>\n",
       "    <tr>\n",
       "      <th>...</th>\n",
       "      <td>...</td>\n",
       "      <td>...</td>\n",
       "      <td>...</td>\n",
       "      <td>...</td>\n",
       "      <td>...</td>\n",
       "    </tr>\n",
       "    <tr>\n",
       "      <th>4683</th>\n",
       "      <td>hazuki23</td>\n",
       "      <td>Mar 14, 2015</td>\n",
       "      <td>1 day ago</td>\n",
       "      <td>2023-04-04 15:41:52</td>\n",
       "      <td>2023-04-02 20:41:52</td>\n",
       "    </tr>\n",
       "    <tr>\n",
       "      <th>4704</th>\n",
       "      <td>dragonhidemomo1</td>\n",
       "      <td>Dec 17, 2019</td>\n",
       "      <td>Jan 18, 2023</td>\n",
       "      <td>2023-04-04 15:43:33</td>\n",
       "      <td>2023-01-18 00:00:00</td>\n",
       "    </tr>\n",
       "    <tr>\n",
       "      <th>4706</th>\n",
       "      <td>ChristopherKavanaugh</td>\n",
       "      <td>Jun 17, 2018</td>\n",
       "      <td>1 hour ago</td>\n",
       "      <td>2023-04-04 15:43:42</td>\n",
       "      <td>2023-04-03 19:43:42</td>\n",
       "    </tr>\n",
       "    <tr>\n",
       "      <th>4711</th>\n",
       "      <td>YasuoG</td>\n",
       "      <td>Nov 2, 2012</td>\n",
       "      <td>Dec 13, 2022</td>\n",
       "      <td>2023-04-04 15:44:06</td>\n",
       "      <td>2022-12-13 00:00:00</td>\n",
       "    </tr>\n",
       "    <tr>\n",
       "      <th>4714</th>\n",
       "      <td>Procrastinator200</td>\n",
       "      <td>Dec 11, 2022</td>\n",
       "      <td>2 hours ago</td>\n",
       "      <td>2023-04-04 15:44:20</td>\n",
       "      <td>2023-04-03 18:44:20</td>\n",
       "    </tr>\n",
       "  </tbody>\n",
       "</table>\n",
       "<p>48620 rows × 5 columns</p>\n",
       "</div>"
      ],
      "text/plain": [
       "               Player name        Joined   Last Online        Scraping time   \n",
       "0               Angry_Twin   Aug 4, 2012     1 day ago  2023-04-02 13:47:30  \\\n",
       "1        Ryuzaki_Mochizuki  Oct 27, 2020  Jan 16, 2023  2023-04-02 13:47:36   \n",
       "2                 csgt_voz  Oct 26, 2022    9 days ago  2023-04-02 13:47:43   \n",
       "3              Black-Flash  Jul 31, 2021     1 day ago  2023-04-02 13:47:50   \n",
       "4                    Gats1  Oct 12, 2020    4 days ago  2023-04-02 13:47:57   \n",
       "...                    ...           ...           ...                  ...   \n",
       "4683              hazuki23  Mar 14, 2015     1 day ago  2023-04-04 15:41:52   \n",
       "4704       dragonhidemomo1  Dec 17, 2019  Jan 18, 2023  2023-04-04 15:43:33   \n",
       "4706  ChristopherKavanaugh  Jun 17, 2018    1 hour ago  2023-04-04 15:43:42   \n",
       "4711                YasuoG   Nov 2, 2012  Dec 13, 2022  2023-04-04 15:44:06   \n",
       "4714     Procrastinator200  Dec 11, 2022   2 hours ago  2023-04-04 15:44:20   \n",
       "\n",
       "     Last Online chess.com server time  \n",
       "0                  2023-03-31 18:47:30  \n",
       "1                  2023-01-16 00:00:00  \n",
       "2                  2023-03-23 18:47:43  \n",
       "3                  2023-03-31 18:47:50  \n",
       "4                  2023-03-28 18:47:57  \n",
       "...                                ...  \n",
       "4683               2023-04-02 20:41:52  \n",
       "4704               2023-01-18 00:00:00  \n",
       "4706               2023-04-03 19:43:42  \n",
       "4711               2022-12-13 00:00:00  \n",
       "4714               2023-04-03 18:44:20  \n",
       "\n",
       "[48620 rows x 5 columns]"
      ]
     },
     "execution_count": 11,
     "metadata": {},
     "output_type": "execute_result"
    }
   ],
   "source": [
    "df_daily = pd.read_csv(\"unique_player_dates_daily.csv\")\n",
    "unique_player_dates_df3 = pd.concat([unique_player_dates_df2, df_daily], axis=0)\n",
    "unique_player_dates_df4 = unique_player_dates_df3.drop_duplicates(subset=['Player name'])\n",
    "unique_player_dates_df4"
   ]
  },
  {
   "cell_type": "code",
   "execution_count": 13,
   "id": "4b131b99-aadb-4c01-b6eb-55e95717e898",
   "metadata": {},
   "outputs": [],
   "source": [
    "unique_player_dates_df4.to_csv(\"unique_player_dates.csv\", index=False)"
   ]
  }
 ],
 "metadata": {
  "kernelspec": {
   "display_name": "Python 3 (ipykernel)",
   "language": "python",
   "name": "python3"
  },
  "language_info": {
   "codemirror_mode": {
    "name": "ipython",
    "version": 3
   },
   "file_extension": ".py",
   "mimetype": "text/x-python",
   "name": "python",
   "nbconvert_exporter": "python",
   "pygments_lexer": "ipython3",
   "version": "3.10.9"
  }
 },
 "nbformat": 4,
 "nbformat_minor": 5
}
