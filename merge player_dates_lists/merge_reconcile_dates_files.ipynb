{
 "cells": [
  {
   "cell_type": "code",
   "execution_count": 7,
   "id": "4169f165-cc4a-4665-b28b-bbaefad0e59c",
   "metadata": {},
   "outputs": [],
   "source": [
    "import pandas as pd\n",
    "df1 = pd.read_csv(\"unique_player_dates-1.csv\")\n",
    "df2 = pd.read_csv(\"unique_player_dates-2.csv\")\n",
    "df3 = pd.read_csv(\"unique_player_dates-3.csv\")\n",
    "unique_player_dates_df = pd.concat([df1, df2, df3], axis=0)"
   ]
  },
  {
   "cell_type": "code",
   "execution_count": 8,
   "id": "9892f484-cde7-4842-8e63-db87ad94d338",
   "metadata": {},
   "outputs": [
    {
     "name": "stdout",
     "output_type": "stream",
     "text": [
      "Odd man out: \n",
      "                 Player name\n",
      "8957              shigolance\n",
      "10709           TheMoonGh0st\n",
      "10733                  JUN62\n",
      "11575                DWSFumi\n",
      "15570               GMKobeni\n",
      "16329                 Tenka0\n",
      "17072           AizennSosuke\n",
      "17438                Raj221b\n",
      "17539              high54low\n",
      "17619                 zebhdz\n",
      "18690             Houzeimata\n",
      "18740                jun8575\n",
      "20233          akithepunyone\n",
      "20733              march4422\n",
      "21736               JIELUVSU\n",
      "22414         VadimLepestkov\n",
      "22529           ShockedPengu\n",
      "23011   31415926535897932324\n",
      "23587               cZero_11\n",
      "23875              hiroshi09\n",
      "25455      15274257127128525\n",
      "28529                  1Mar0\n",
      "28890               dyaaleen\n",
      "29912               tytyryan\n",
      "30996               jeisiaha\n",
      "31640               ISuck143\n",
      "32022          pocketwatcher\n",
      "34954                   ciqy\n",
      "35109              Shirin2k5\n",
      "35517        NevermoriusZero\n",
      "35606             NAMMYBOI69\n",
      "36088          expansiveness\n",
      "36384     Tranthienphuoc1000\n",
      "36757              Fludanshi\n",
      "36926                Zapcort\n",
      "37765  Now_i_m_just_somebody\n",
      "38357           MasbroHotaru\n",
      "39687                  dipdo\n",
      "41719                 May-11\n",
      "42358              shussen21\n",
      "45592            LloydSwan21\n",
      "45609        MikuHatsumexoxo\n",
      "46660                Gatuchi\n"
     ]
    }
   ],
   "source": [
    "unique_player_names_df = pd.read_csv('unique_player_names.csv')\n",
    "\n",
    "odd_man_out = unique_player_names_df[~unique_player_names_df['Player name'].isin(unique_player_dates_df['Player name'])]\n",
    "\n",
    "print(\"Odd man out: \")\n",
    "print(odd_man_out)"
   ]
  },
  {
   "cell_type": "code",
   "execution_count": 12,
   "id": "27c42232-78ae-43df-9975-1a8221d3eeac",
   "metadata": {},
   "outputs": [],
   "source": [
    "odd_man_out.to_csv(\"odd_man_out.csv\", index=False)"
   ]
  }
 ],
 "metadata": {
  "kernelspec": {
   "display_name": "Python 3 (ipykernel)",
   "language": "python",
   "name": "python3"
  },
  "language_info": {
   "codemirror_mode": {
    "name": "ipython",
    "version": 3
   },
   "file_extension": ".py",
   "mimetype": "text/x-python",
   "name": "python",
   "nbconvert_exporter": "python",
   "pygments_lexer": "ipython3",
   "version": "3.10.9"
  }
 },
 "nbformat": 4,
 "nbformat_minor": 5
}
